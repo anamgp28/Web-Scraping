{
 "cells": [
  {
   "cell_type": "code",
   "execution_count": 1,
   "id": "d3214d89",
   "metadata": {},
   "outputs": [],
   "source": [
    "import requests\n",
    "from bs4 import BeautifulSoup\n",
    "import re\n",
    "import pandas as pd\n",
    "import time\n",
    "import itertools"
   ]
  },
  {
   "cell_type": "markdown",
   "id": "615d2071",
   "metadata": {},
   "source": [
    "Importar ```icecream```para debugging"
   ]
  },
  {
   "cell_type": "code",
   "execution_count": 2,
   "id": "8080c7be",
   "metadata": {},
   "outputs": [],
   "source": [
    "from icecream import ic"
   ]
  },
  {
   "cell_type": "markdown",
   "id": "de8198b5",
   "metadata": {},
   "source": [
    "Definición de las url para scraping\n",
    "\n",
    "- ```url```: url de la página principal de freepatent\n",
    "- ```url_page```: url de la página de busca hasta donde se define la página del paginator de la busqueda\n",
    "- ```url_search```: parte final url que define la ecuación de busqueda"
   ]
  },
  {
   "cell_type": "code",
   "execution_count": null,
   "id": "1e5b933f",
   "metadata": {
    "lines_to_next_cell": 1
   },
   "outputs": [],
   "source": [
    "url = 'https://www.freepatentsonline.com'\n",
    "url_page = 'https://www.freepatentsonline.com/result.html?p='\n",
    "url_search = '&srch=xprtsrch&query_txt=ALL%28health+services%29+AND+%28ALL%28customer+servicies%29+OR+%28omnicanal%29+OR+ALL%28analitics%29%29&uspat=on&usapp=on&eupat=on&jp=on&pct=on&depat=on&date_range=last20&stemming=on&sort=relevance'"
   ]
  },
  {
   "cell_type": "markdown",
   "id": "ecd09a85",
   "metadata": {},
   "source": [
    "Definición de cantidad de páginas en la busqueda"
   ]
  },
  {
   "cell_type": "code",
   "execution_count": 3,
   "id": "4bab366a",
   "metadata": {
    "lines_to_next_cell": 1
   },
   "outputs": [],
   "source": [
    "pages = 2"
   ]
  },
  {
   "cell_type": "markdown",
   "id": "41dc8d9d",
   "metadata": {},
   "source": [
    "Método que extrae los links de las patentes de la página de busqueda.\n",
    "\n",
    "- Param: ```pages``` - cantidad de páginas en la busqueda\n",
    "- Return: ```links```- Lista con los links de las patentes encontradas"
   ]
  },
  {
   "cell_type": "code",
   "execution_count": 15,
   "id": "5c868b37",
   "metadata": {
    "lines_to_next_cell": 1
   },
   "outputs": [],
   "source": [
    "def extract_links(pages):\n",
    "    links = []\n",
    "    for page in range(1,pages+1):\n",
    "        r = requests.get(url_page + str(page) + url_search)\n",
    "        soup = BeautifulSoup(r.content,\"lxml\")\n",
    "        \n",
    "        # se leen todas las filas de tablas\n",
    "        rows = soup.find_all('tr')\n",
    "        \n",
    "        # se quitan los dos primeros y dos últimos valores que no son parte de la tabla de resultados\n",
    "        rows = rows[2:-2]\n",
    "        \n",
    "        # Se copian los links de cada una de las filas\n",
    "        for row in rows:\n",
    "            links.append(row.find('a')['href'])\n",
    "    return links"
   ]
  },
  {
   "cell_type": "markdown",
   "id": "111ca6aa",
   "metadata": {},
   "source": [
    "Método que extrae y transforma la información de las patentes y las guarda en un ```DataFrame```\n",
    "\n",
    "- Param: ```pages``` - cantidad de páginas en la busqueda\n",
    "- Return: ```df```- DataFrame con los datos de las patentes organizados"
   ]
  },
  {
   "cell_type": "code",
   "execution_count": 12,
   "id": "2e371b4b",
   "metadata": {},
   "outputs": [],
   "source": [
    "def transform_patents(pages):\n",
    "    links = extract_links(pages)\n",
    "    table = []\n",
    "    for link in links:\n",
    "        # Tiempo de espera para no sobre cargar la página de requests\n",
    "        time.sleep(1)\n",
    "        r = requests.get(url + link)\n",
    "        soup = BeautifulSoup(r.content,\"lxml\")\n",
    "        \n",
    "        dict = {}\n",
    "        # Se toman los contenedores que tienen el título y valores de los datos de la patente\n",
    "        containers = soup.find_all('div', attrs={'class':'disp_doc2'})\n",
    "        for container in containers:\n",
    "            title = container.find('div', attrs={'class':'disp_elm_title'})\n",
    "            value = container.find('div', attrs={'class':'disp_elm_text'})\n",
    "            \n",
    "            # Si existen título y contenido se guarda la información sino no se hace nada\n",
    "            try:\n",
    "                dict[title.getText().strip().replace(':', '')] = re.sub(' +', ' ', value.getText().strip())\n",
    "                if 'International Classes' in dict.keys():\n",
    "                    dict['International Classes'] = dict['International Classes'].replace(';', '\\n')\n",
    "            except:\n",
    "                continue\n",
    "        \n",
    "        # Si hay título vacío se elimina\n",
    "        if '' in dict.keys():\n",
    "            del dict['']\n",
    "        table.append(dict)\n",
    "    \n",
    "    # Se crea el DataFrame con los datos relevantes de las patentes\n",
    "    df = pd.DataFrame(table)\n",
    "    df = df[['Title','Abstract','Inventors','Application Number','Publication Date','Filing Date','Assignee','International Classes']]\n",
    "        \n",
    "    return df"
   ]
  },
  {
   "cell_type": "markdown",
   "id": "b1f19e49",
   "metadata": {},
   "source": [
    "Método que extrae los paises de la columna ```Assignee``` teniendo en cuenta el código ```ISO 2``` de los paises \n",
    "\n",
    "- Param: ```df```- DataFrame con los datos de las patentes limpios\n",
    "- Return: ```df```- DataFrame con nueva columna de paises llamada ```Countries```"
   ]
  },
  {
   "cell_type": "code",
   "execution_count": 6,
   "id": "ae3aa529",
   "metadata": {},
   "outputs": [],
   "source": [
    "def set_country(df):\n",
    "    # Se leen los datos del archivo de paises y se leen como diccionario con el código iso2 como llave\n",
    "    countries = pd.read_csv('paises.csv')\n",
    "    countries.rename(columns=lambda x: x.strip(), inplace=True)\n",
    "    countries['iso2'] = countries['iso2'].str.strip()\n",
    "    \n",
    "    # En la columna Assignee se busca el código del país y se guarda el nombre del país en una nueva columna Country\n",
    "    country_dict = countries.set_index('iso2').to_dict('index')\n",
    "    df['Country'] = df['Assignee'].apply(lambda x : '-'.join([v['nombre'] if str(k)+')' in x  else '' for k,v in country_dict.items()]))\n",
    "\n",
    "    df['Country'] = df['Country'].replace('-+', '\\n', regex=True)\n",
    "    df['Country'] = df['Country'].str.strip()\n",
    "    \n",
    "    return df"
   ]
  },
  {
   "cell_type": "markdown",
   "id": "3297a633",
   "metadata": {},
   "source": [
    "Método que cuenta la cantidad de veces que aparecen las clases de patente de la columna ```International Classes```\n",
    "\n",
    "- Param: ```df```- DataFrame con los datos de las patentes\n",
    "- Return: ```df_classes```- DataFrame con la cantidad de veces que apaceren las clases de patentes"
   ]
  },
  {
   "cell_type": "code",
   "execution_count": 7,
   "id": "34e7b698",
   "metadata": {
    "scrolled": false
   },
   "outputs": [],
   "source": [
    "def count_classes(df):\n",
    "    # Se crea una lista de todas las clases de patente\n",
    "    classes = [x.split('\\n') for x in df['International Classes']]\n",
    "    classes = list(itertools.chain.from_iterable(classes))\n",
    "    classes = [s.replace(\"(IPC1-7):\", \"\") for s in classes]\n",
    "    classes = [s.strip() for s in classes]\n",
    "    \n",
    "    # Se crea un nuevo DataFrame con el número de veces que aparecen las clases\n",
    "    df_classes = pd.DataFrame(classes, columns=['International Classes'])\n",
    "    df_classes = df_classes['International Classes'].value_counts().rename_axis('International Classes').reset_index(name='Counts')\n",
    "    \n",
    "    return df_classes"
   ]
  },
  {
   "cell_type": "markdown",
   "id": "638006f9",
   "metadata": {},
   "source": [
    "Método que crea un excel con la información de pantentes y clases\n",
    "\n",
    "- Param: ```df```- DataFrame con los datos de las patentes"
   ]
  },
  {
   "cell_type": "code",
   "execution_count": 8,
   "id": "6e2b28cd",
   "metadata": {},
   "outputs": [],
   "source": [
    "def save_excel(df):\n",
    "    df_patents = set_country(df)\n",
    "    df_classes = count_classes(df)\n",
    "    \n",
    "    # Se escriben los DataFrame de patentes y clases en un excel\n",
    "    with pd.ExcelWriter('Patentes.xlsx') as writer:  \n",
    "        df_patents.to_excel(writer, sheet_name='Patentes')\n",
    "        df_classes.to_excel(writer, sheet_name='Cantidad de Clases')"
   ]
  },
  {
   "cell_type": "code",
   "execution_count": 13,
   "id": "0622bb1b",
   "metadata": {},
   "outputs": [],
   "source": [
    "df = transform_patents(page)"
   ]
  },
  {
   "cell_type": "code",
   "execution_count": 14,
   "id": "345153cf",
   "metadata": {},
   "outputs": [],
   "source": [
    "save_excel(df)"
   ]
  }
 ],
 "metadata": {
  "jupytext": {
   "cell_metadata_filter": "-all",
   "main_language": "python",
   "notebook_metadata_filter": "-all"
  },
  "kernelspec": {
   "display_name": "Python 3 (ipykernel)",
   "language": "python",
   "name": "python3"
  },
  "language_info": {
   "codemirror_mode": {
    "name": "ipython",
    "version": 3
   },
   "file_extension": ".py",
   "mimetype": "text/x-python",
   "name": "python",
   "nbconvert_exporter": "python",
   "pygments_lexer": "ipython3",
   "version": "3.7.10"
  }
 },
 "nbformat": 4,
 "nbformat_minor": 5
}
